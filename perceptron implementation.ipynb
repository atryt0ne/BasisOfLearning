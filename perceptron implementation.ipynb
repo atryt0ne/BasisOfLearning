{
 "cells": [
  {
   "cell_type": "markdown",
   "id": "ba23431f",
   "metadata": {},
   "source": [
    "# Perceptron implementation\n",
    "## using python"
   ]
  },
  {
   "cell_type": "code",
   "execution_count": 1,
   "id": "10fe6bb4",
   "metadata": {},
   "outputs": [],
   "source": [
    "import numpy as np\n",
    "\n"
   ]
  },
  {
   "cell_type": "code",
   "execution_count": 60,
   "id": "c46b7393",
   "metadata": {},
   "outputs": [],
   "source": [
    "class perceptron(object):\n",
    "    def __init__(self,eta =0.5,iter_ = 20):\n",
    "        self.eta =eta \n",
    "        self.iter =iter_\n",
    "        self.w=[]\n",
    "        self.bias = 0\n",
    "        \n",
    "        \n",
    "    def summation(self, x):\n",
    "            y = np.dot(x,self.w)+self.bias\n",
    "            return y\n",
    "    \n",
    "    def predict(self,x):\n",
    "            return np.where(self.summation(x)>=0,1,0) #checks if the given condition is true\n",
    "            \n",
    "            \n",
    "    def train(self,x,y):    # this function is used to train the perceptron\n",
    "         self.w=np.zeros(shape=(x.shape[1],))   # taking initial weights to be zero # taking shape[1] as we are passing nore than 1 elements to our perceptron\n",
    "         epoch =1\n",
    "            \n",
    "         for _ in range(self.iter):  # we are taking _ here as we don't want to store the iteration\n",
    "            flag =0  # checks if the model has been trained\n",
    "            \n",
    "            print(f\"#####################epoch {epoch}#################\")\n",
    "            for inputs, targets in zip(x,y): \n",
    "                pred_output = self.predict(inputs)\n",
    "                error = targets - pred_output  # calculates the error\n",
    "                print(error)\n",
    "                if error !=0:\n",
    "                    flag =1\n",
    "                    self.w += self.eta * error * inputs # updating the  weights \n",
    "                    self.bias += self.eta*error   # updating the biases\n",
    "                        \n",
    "            epoch += 1\n",
    "        \n",
    "            if flag ==0:\n",
    "                return self\n",
    "                         \n",
    "                    \n",
    "            \n",
    "            \n",
    "             \n",
    "                "
   ]
  },
  {
   "cell_type": "code",
   "execution_count": 61,
   "id": "7aa342df",
   "metadata": {},
   "outputs": [],
   "source": [
    "ann =perceptron(0.5,10)"
   ]
  },
  {
   "cell_type": "code",
   "execution_count": 62,
   "id": "7b92b116",
   "metadata": {},
   "outputs": [],
   "source": [
    "x=np.array([\n",
    "    [0,0],\n",
    "    [0,1],\n",
    "    [1,0],\n",
    "    [1,1]\n",
    "])\n",
    "y= np.array([0,1,1,1])   #target values"
   ]
  },
  {
   "cell_type": "code",
   "execution_count": 63,
   "id": "08f62eee",
   "metadata": {},
   "outputs": [
    {
     "name": "stdout",
     "output_type": "stream",
     "text": [
      "#####################epoch 1#################\n",
      "-1\n",
      "1\n",
      "0\n",
      "0\n",
      "#####################epoch 2#################\n",
      "-1\n",
      "0\n",
      "1\n",
      "0\n",
      "#####################epoch 3#################\n",
      "-1\n",
      "0\n",
      "0\n",
      "0\n",
      "#####################epoch 4#################\n",
      "0\n",
      "0\n",
      "0\n",
      "0\n"
     ]
    },
    {
     "data": {
      "text/plain": [
       "<__main__.perceptron at 0x22f655c6790>"
      ]
     },
     "execution_count": 63,
     "metadata": {},
     "output_type": "execute_result"
    }
   ],
   "source": [
    "ann.train(x,y)"
   ]
  },
  {
   "cell_type": "code",
   "execution_count": 59,
   "id": "518d0a89",
   "metadata": {},
   "outputs": [
    {
     "data": {
      "text/plain": [
       "array(0)"
      ]
     },
     "execution_count": 59,
     "metadata": {},
     "output_type": "execute_result"
    }
   ],
   "source": [
    "ann.predict([0,0])"
   ]
  }
 ],
 "metadata": {
  "kernelspec": {
   "display_name": "Python 3 (ipykernel)",
   "language": "python",
   "name": "python3"
  },
  "language_info": {
   "codemirror_mode": {
    "name": "ipython",
    "version": 3
   },
   "file_extension": ".py",
   "mimetype": "text/x-python",
   "name": "python",
   "nbconvert_exporter": "python",
   "pygments_lexer": "ipython3",
   "version": "3.9.12"
  }
 },
 "nbformat": 4,
 "nbformat_minor": 5
}
